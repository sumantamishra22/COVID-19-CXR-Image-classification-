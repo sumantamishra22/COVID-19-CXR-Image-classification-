{
  "nbformat": 4,
  "nbformat_minor": 0,
  "metadata": {
    "colab": {
      "name": "Coding_Project_2_19AI91R07 - Github.ipynb",
      "provenance": [],
      "collapsed_sections": []
    },
    "kernelspec": {
      "name": "python3",
      "display_name": "Python 3"
    },
    "widgets": {
      "application/vnd.jupyter.widget-state+json": {
        "dc3ca975f91644d293cec3f103bf1376": {
          "model_module": "@jupyter-widgets/controls",
          "model_name": "HBoxModel",
          "state": {
            "_view_name": "HBoxView",
            "_dom_classes": [],
            "_model_name": "HBoxModel",
            "_view_module": "@jupyter-widgets/controls",
            "_model_module_version": "1.5.0",
            "_view_count": null,
            "_view_module_version": "1.5.0",
            "box_style": "",
            "layout": "IPY_MODEL_de9353f0c79644739a6e54d9474f12ce",
            "_model_module": "@jupyter-widgets/controls",
            "children": [
              "IPY_MODEL_395e504d5a274c479ac8c52af0716edb",
              "IPY_MODEL_40dca46d33ab4bf1b2348b2deb6791f3"
            ]
          }
        },
        "de9353f0c79644739a6e54d9474f12ce": {
          "model_module": "@jupyter-widgets/base",
          "model_name": "LayoutModel",
          "state": {
            "_view_name": "LayoutView",
            "grid_template_rows": null,
            "right": null,
            "justify_content": null,
            "_view_module": "@jupyter-widgets/base",
            "overflow": null,
            "_model_module_version": "1.2.0",
            "_view_count": null,
            "flex_flow": null,
            "width": null,
            "min_width": null,
            "border": null,
            "align_items": null,
            "bottom": null,
            "_model_module": "@jupyter-widgets/base",
            "top": null,
            "grid_column": null,
            "overflow_y": null,
            "overflow_x": null,
            "grid_auto_flow": null,
            "grid_area": null,
            "grid_template_columns": null,
            "flex": null,
            "_model_name": "LayoutModel",
            "justify_items": null,
            "grid_row": null,
            "max_height": null,
            "align_content": null,
            "visibility": null,
            "align_self": null,
            "height": null,
            "min_height": null,
            "padding": null,
            "grid_auto_rows": null,
            "grid_gap": null,
            "max_width": null,
            "order": null,
            "_view_module_version": "1.2.0",
            "grid_template_areas": null,
            "object_position": null,
            "object_fit": null,
            "grid_auto_columns": null,
            "margin": null,
            "display": null,
            "left": null
          }
        },
        "395e504d5a274c479ac8c52af0716edb": {
          "model_module": "@jupyter-widgets/controls",
          "model_name": "FloatProgressModel",
          "state": {
            "_view_name": "ProgressView",
            "style": "IPY_MODEL_ee90dafe061944e1ae76df8cb4e8cc81",
            "_dom_classes": [],
            "description": "100%",
            "_model_name": "FloatProgressModel",
            "bar_style": "success",
            "max": 553433881,
            "_view_module": "@jupyter-widgets/controls",
            "_model_module_version": "1.5.0",
            "value": 553433881,
            "_view_count": null,
            "_view_module_version": "1.5.0",
            "orientation": "horizontal",
            "min": 0,
            "description_tooltip": null,
            "_model_module": "@jupyter-widgets/controls",
            "layout": "IPY_MODEL_737e8411aa1248b4be5f733e71908a64"
          }
        },
        "40dca46d33ab4bf1b2348b2deb6791f3": {
          "model_module": "@jupyter-widgets/controls",
          "model_name": "HTMLModel",
          "state": {
            "_view_name": "HTMLView",
            "style": "IPY_MODEL_09c55e39f8b04c7e916e4e35975c8ac4",
            "_dom_classes": [],
            "description": "",
            "_model_name": "HTMLModel",
            "placeholder": "​",
            "_view_module": "@jupyter-widgets/controls",
            "_model_module_version": "1.5.0",
            "value": " 528M/528M [1:32:56&lt;00:00, 99.2kB/s]",
            "_view_count": null,
            "_view_module_version": "1.5.0",
            "description_tooltip": null,
            "_model_module": "@jupyter-widgets/controls",
            "layout": "IPY_MODEL_4205d36a95b14c578eeb0851db390490"
          }
        },
        "ee90dafe061944e1ae76df8cb4e8cc81": {
          "model_module": "@jupyter-widgets/controls",
          "model_name": "ProgressStyleModel",
          "state": {
            "_view_name": "StyleView",
            "_model_name": "ProgressStyleModel",
            "description_width": "initial",
            "_view_module": "@jupyter-widgets/base",
            "_model_module_version": "1.5.0",
            "_view_count": null,
            "_view_module_version": "1.2.0",
            "bar_color": null,
            "_model_module": "@jupyter-widgets/controls"
          }
        },
        "737e8411aa1248b4be5f733e71908a64": {
          "model_module": "@jupyter-widgets/base",
          "model_name": "LayoutModel",
          "state": {
            "_view_name": "LayoutView",
            "grid_template_rows": null,
            "right": null,
            "justify_content": null,
            "_view_module": "@jupyter-widgets/base",
            "overflow": null,
            "_model_module_version": "1.2.0",
            "_view_count": null,
            "flex_flow": null,
            "width": null,
            "min_width": null,
            "border": null,
            "align_items": null,
            "bottom": null,
            "_model_module": "@jupyter-widgets/base",
            "top": null,
            "grid_column": null,
            "overflow_y": null,
            "overflow_x": null,
            "grid_auto_flow": null,
            "grid_area": null,
            "grid_template_columns": null,
            "flex": null,
            "_model_name": "LayoutModel",
            "justify_items": null,
            "grid_row": null,
            "max_height": null,
            "align_content": null,
            "visibility": null,
            "align_self": null,
            "height": null,
            "min_height": null,
            "padding": null,
            "grid_auto_rows": null,
            "grid_gap": null,
            "max_width": null,
            "order": null,
            "_view_module_version": "1.2.0",
            "grid_template_areas": null,
            "object_position": null,
            "object_fit": null,
            "grid_auto_columns": null,
            "margin": null,
            "display": null,
            "left": null
          }
        },
        "09c55e39f8b04c7e916e4e35975c8ac4": {
          "model_module": "@jupyter-widgets/controls",
          "model_name": "DescriptionStyleModel",
          "state": {
            "_view_name": "StyleView",
            "_model_name": "DescriptionStyleModel",
            "description_width": "",
            "_view_module": "@jupyter-widgets/base",
            "_model_module_version": "1.5.0",
            "_view_count": null,
            "_view_module_version": "1.2.0",
            "_model_module": "@jupyter-widgets/controls"
          }
        },
        "4205d36a95b14c578eeb0851db390490": {
          "model_module": "@jupyter-widgets/base",
          "model_name": "LayoutModel",
          "state": {
            "_view_name": "LayoutView",
            "grid_template_rows": null,
            "right": null,
            "justify_content": null,
            "_view_module": "@jupyter-widgets/base",
            "overflow": null,
            "_model_module_version": "1.2.0",
            "_view_count": null,
            "flex_flow": null,
            "width": null,
            "min_width": null,
            "border": null,
            "align_items": null,
            "bottom": null,
            "_model_module": "@jupyter-widgets/base",
            "top": null,
            "grid_column": null,
            "overflow_y": null,
            "overflow_x": null,
            "grid_auto_flow": null,
            "grid_area": null,
            "grid_template_columns": null,
            "flex": null,
            "_model_name": "LayoutModel",
            "justify_items": null,
            "grid_row": null,
            "max_height": null,
            "align_content": null,
            "visibility": null,
            "align_self": null,
            "height": null,
            "min_height": null,
            "padding": null,
            "grid_auto_rows": null,
            "grid_gap": null,
            "max_width": null,
            "order": null,
            "_view_module_version": "1.2.0",
            "grid_template_areas": null,
            "object_position": null,
            "object_fit": null,
            "grid_auto_columns": null,
            "margin": null,
            "display": null,
            "left": null
          }
        }
      }
    }
  },
  "cells": [
    {
      "cell_type": "markdown",
      "metadata": {
        "id": "UExHBftFqSRv",
        "colab_type": "text"
      },
      "source": [
        "CODING PROJECT-2(COVID-19)\n",
        "\n",
        "SUMANTA CHANDRA MISHRA SHARMA\n"
      ]
    },
    {
      "cell_type": "code",
      "metadata": {
        "id": "2lXAWxPm3iC1",
        "colab_type": "code",
        "outputId": "24a07940-7365-461b-e264-2787b68eab69",
        "colab": {
          "base_uri": "https://localhost:8080/",
          "height": 128
        }
      },
      "source": [
        "# Mount Drive..............................................................................................................................\n",
        "from google.colab import drive\n",
        "drive.mount('/content/drive/')"
      ],
      "execution_count": 0,
      "outputs": [
        {
          "output_type": "stream",
          "text": [
            "Go to this URL in a browser: https://accounts.google.com/o/oauth2/auth?client_id=947318989803-6bn6qk8qdgf4n4g3pfee6491hc0brc4i.apps.googleusercontent.com&redirect_uri=urn%3aietf%3awg%3aoauth%3a2.0%3aoob&response_type=code&scope=email%20https%3a%2f%2fwww.googleapis.com%2fauth%2fdocs.test%20https%3a%2f%2fwww.googleapis.com%2fauth%2fdrive%20https%3a%2f%2fwww.googleapis.com%2fauth%2fdrive.photos.readonly%20https%3a%2f%2fwww.googleapis.com%2fauth%2fpeopleapi.readonly\n",
            "\n",
            "Enter your authorization code:\n",
            "··········\n",
            "Mounted at /content/drive/\n"
          ],
          "name": "stdout"
        }
      ]
    },
    {
      "cell_type": "code",
      "metadata": {
        "id": "65Cn9bmipAPZ",
        "colab_type": "code",
        "colab": {}
      },
      "source": [
        "# Import Packages..........................................................................................................................\n",
        "\n",
        "import cv2\n",
        "import glob\n",
        "import torch\n",
        "import numpy as np\n",
        "import torchvision\n",
        "import pandas as pd\n",
        "import torch.nn as nn\n",
        "import torch.optim as optim\n",
        "import torch.nn.functional as F\n",
        "import matplotlib.pyplot as plt\n",
        "import torch.optim.lr_scheduler as Scheduler\n",
        "from time import time\n",
        "from torch.utils import data\n",
        "from torchvision import models\n",
        "from torchsummary import summary\n",
        "from google.colab.patches import cv2_imshow\n",
        "from sklearn.model_selection  import train_test_split \n"
      ],
      "execution_count": 0,
      "outputs": []
    },
    {
      "cell_type": "code",
      "metadata": {
        "id": "Kj68MIJ67Uxj",
        "colab_type": "code",
        "colab": {}
      },
      "source": [
        "\n",
        "#Loading and Extracting the dataset......................................................................................................... \n",
        "\n",
        "Dataset = [filename for filename in glob.glob(\"/content/drive/My Drive/Source1/*\")]\n",
        "Dataset.extend([filename for filename in glob.glob(\"/content/drive/My Drive/Source2/*\")])\n",
        "Dataset.extend([filename for filename in glob.glob(\"/content/drive/My Drive/Source5/*\")])\n",
        "Dataset.extend([filename for filename in glob.glob(\"/content/drive/My Drive/Source6/*\")])\n",
        "Dataset.extend([filename for filename in glob.glob(\"/content/drive/My Drive/Source7/*\")])\n",
        "\n",
        "image_list=[]\n",
        "for filename in Dataset:\n",
        "    im=cv2.imread(filename)\n",
        "    im=cv2.resize(im,(224,224),interpolation=cv2.INTER_NEAREST)\n",
        "    im=torch.tensor(im, dtype=torch.float) / 255.0 \n",
        "    image_name = filename.split('/')[5]\n",
        "    image_list.append((image_name, im))\n"
      ],
      "execution_count": 0,
      "outputs": []
    },
    {
      "cell_type": "code",
      "metadata": {
        "id": "iXGVP5MAFFg9",
        "colab_type": "code",
        "colab": {}
      },
      "source": [
        "# Training and Testing Label................................................................................................................ \n",
        "\n",
        "TR_label=pd.read_csv('/content/drive/My Drive/Train_Combined.csv')\n",
        "Label=TR_label.where(TR_label['Data Source'].str.contains('|'.join(('Source-1','Source-2','Source-5','Source-6','Source-7'))))\n",
        "Label.reset_index(inplace=True,drop=True)\n",
        "Label.dropna(inplace=True)\n",
        "TR_label=Label\n",
        "\n",
        "TS_label=pd.read_csv('/content/drive/My Drive/Test_Combined.csv')\n",
        "Label=TS_label.where(TS_label['Data Source'].str.contains('|'.join(('Source-1','Source-2','Source-5','Source-6','Source-7'))))\n",
        "Label.reset_index(inplace=True,drop=True)\n",
        "Label.dropna(inplace=True)\n",
        "TS_label=Label"
      ],
      "execution_count": 0,
      "outputs": []
    },
    {
      "cell_type": "code",
      "metadata": {
        "id": "l6aNIQRJ8suT",
        "colab_type": "code",
        "colab": {}
      },
      "source": [
        "#Model......................................................................................................................................\n",
        "TR_GPU=0\n",
        "def get_pretrained_model(model_name):\n",
        "    \n",
        "    if model_name == 'vgg16':\n",
        "        model = models.vgg16(pretrained=True)\n",
        "\n",
        "        # Freeze early layers\n",
        "        for param in model.parameters():\n",
        "            param.requires_grad = False\n",
        "        model_inputs = model.classifier[6].in_features\n",
        "\n",
        "        # Add on classifier\n",
        "        model.classifier[6] = nn.Sequential(nn.Linear(model_inputs, 512), nn.ReLU(), nn.Dropout(0.2),\n",
        "                                            nn.Linear(512, 64), nn.ReLU(), nn.Dropout(0.2),\n",
        "                                            nn.Linear(64, 3), nn.LogSoftmax(dim=1))\n",
        "\n",
        "    # Move to gpu\n",
        "    if TR_GPU:\n",
        "        model = model.to('cuda')\n",
        "    return model"
      ],
      "execution_count": 0,
      "outputs": []
    },
    {
      "cell_type": "code",
      "metadata": {
        "id": "eUMN85RH8NXE",
        "colab_type": "code",
        "outputId": "6ce07a7a-5231-4561-fd79-954c6b8b17e1",
        "colab": {
          "base_uri": "https://localhost:8080/",
          "height": 1000,
          "referenced_widgets": [
            "dc3ca975f91644d293cec3f103bf1376",
            "de9353f0c79644739a6e54d9474f12ce",
            "395e504d5a274c479ac8c52af0716edb",
            "40dca46d33ab4bf1b2348b2deb6791f3",
            "ee90dafe061944e1ae76df8cb4e8cc81",
            "737e8411aa1248b4be5f733e71908a64",
            "09c55e39f8b04c7e916e4e35975c8ac4",
            "4205d36a95b14c578eeb0851db390490"
          ]
        }
      },
      "source": [
        "# The model summary and complexity........................................................................................................ \n",
        "\n",
        "model = get_pretrained_model('vgg16')\n",
        "summary(model, input_size=(3, 224, 224), batch_size=1)\n",
        "\n"
      ],
      "execution_count": 0,
      "outputs": [
        {
          "output_type": "stream",
          "text": [
            "Downloading: \"https://download.pytorch.org/models/vgg16-397923af.pth\" to /root/.cache/torch/checkpoints/vgg16-397923af.pth\n"
          ],
          "name": "stderr"
        },
        {
          "output_type": "display_data",
          "data": {
            "application/vnd.jupyter.widget-view+json": {
              "model_id": "dc3ca975f91644d293cec3f103bf1376",
              "version_minor": 0,
              "version_major": 2
            },
            "text/plain": [
              "HBox(children=(FloatProgress(value=0.0, max=553433881.0), HTML(value='')))"
            ]
          },
          "metadata": {
            "tags": []
          }
        },
        {
          "output_type": "stream",
          "text": [
            "\n",
            "----------------------------------------------------------------\n",
            "        Layer (type)               Output Shape         Param #\n",
            "================================================================\n",
            "            Conv2d-1          [1, 64, 224, 224]           1,792\n",
            "              ReLU-2          [1, 64, 224, 224]               0\n",
            "            Conv2d-3          [1, 64, 224, 224]          36,928\n",
            "              ReLU-4          [1, 64, 224, 224]               0\n",
            "         MaxPool2d-5          [1, 64, 112, 112]               0\n",
            "            Conv2d-6         [1, 128, 112, 112]          73,856\n",
            "              ReLU-7         [1, 128, 112, 112]               0\n",
            "            Conv2d-8         [1, 128, 112, 112]         147,584\n",
            "              ReLU-9         [1, 128, 112, 112]               0\n",
            "        MaxPool2d-10           [1, 128, 56, 56]               0\n",
            "           Conv2d-11           [1, 256, 56, 56]         295,168\n",
            "             ReLU-12           [1, 256, 56, 56]               0\n",
            "           Conv2d-13           [1, 256, 56, 56]         590,080\n",
            "             ReLU-14           [1, 256, 56, 56]               0\n",
            "           Conv2d-15           [1, 256, 56, 56]         590,080\n",
            "             ReLU-16           [1, 256, 56, 56]               0\n",
            "        MaxPool2d-17           [1, 256, 28, 28]               0\n",
            "           Conv2d-18           [1, 512, 28, 28]       1,180,160\n",
            "             ReLU-19           [1, 512, 28, 28]               0\n",
            "           Conv2d-20           [1, 512, 28, 28]       2,359,808\n",
            "             ReLU-21           [1, 512, 28, 28]               0\n",
            "           Conv2d-22           [1, 512, 28, 28]       2,359,808\n",
            "             ReLU-23           [1, 512, 28, 28]               0\n",
            "        MaxPool2d-24           [1, 512, 14, 14]               0\n",
            "           Conv2d-25           [1, 512, 14, 14]       2,359,808\n",
            "             ReLU-26           [1, 512, 14, 14]               0\n",
            "           Conv2d-27           [1, 512, 14, 14]       2,359,808\n",
            "             ReLU-28           [1, 512, 14, 14]               0\n",
            "           Conv2d-29           [1, 512, 14, 14]       2,359,808\n",
            "             ReLU-30           [1, 512, 14, 14]               0\n",
            "        MaxPool2d-31             [1, 512, 7, 7]               0\n",
            "AdaptiveAvgPool2d-32             [1, 512, 7, 7]               0\n",
            "           Linear-33                  [1, 4096]     102,764,544\n",
            "             ReLU-34                  [1, 4096]               0\n",
            "          Dropout-35                  [1, 4096]               0\n",
            "           Linear-36                  [1, 4096]      16,781,312\n",
            "             ReLU-37                  [1, 4096]               0\n",
            "          Dropout-38                  [1, 4096]               0\n",
            "           Linear-39                   [1, 512]       2,097,664\n",
            "             ReLU-40                   [1, 512]               0\n",
            "          Dropout-41                   [1, 512]               0\n",
            "           Linear-42                    [1, 64]          32,832\n",
            "             ReLU-43                    [1, 64]               0\n",
            "          Dropout-44                    [1, 64]               0\n",
            "           Linear-45                     [1, 3]             195\n",
            "       LogSoftmax-46                     [1, 3]               0\n",
            "================================================================\n",
            "Total params: 136,391,235\n",
            "Trainable params: 2,130,691\n",
            "Non-trainable params: 134,260,544\n",
            "----------------------------------------------------------------\n",
            "Input size (MB): 0.57\n",
            "Forward/backward pass size (MB): 218.79\n",
            "Params size (MB): 520.29\n",
            "Estimated Total Size (MB): 739.65\n",
            "----------------------------------------------------------------\n"
          ],
          "name": "stdout"
        }
      ]
    },
    {
      "cell_type": "code",
      "metadata": {
        "id": "Si6yX7dAG2de",
        "colab_type": "code",
        "outputId": "3c46fa9d-cad3-4bba-a5d0-8e2e91b3cc31",
        "colab": {
          "base_uri": "https://localhost:8080/",
          "height": 563
        }
      },
      "source": [
        "#Training and Validating.....................................................................................................................\n",
        "\n",
        "count=0\n",
        "epochs = 30\n",
        "run_loss_val = 0\n",
        "previous_run_loss_val=0\n",
        "train_loss=[]\n",
        "val_loss=[]\n",
        "val_acc=[]\n",
        "max_patience_count=5\n",
        "time0 = time()\n",
        "optimizer = optim.Adam(model.parameters())\n",
        "\n",
        "# ReduceLROnPlateau scheduler for hot restart\n",
        "scheduler=Scheduler.ReduceLROnPlateau(optimizer,'min')\n",
        "for e in range(epochs):\n",
        "    previous_run_loss_val=run_loss_val\n",
        "    run_loss_train = 0\n",
        "    run_loss_val = 0\n",
        "    pos_count=0\n",
        "\n",
        "# Random Split of training and validation set from the training data in ratio 85:15.  \n",
        "    train_label, val_label = train_test_split(TR_label, test_size=0.15,random_state=1)\n",
        "\n",
        "    for i in train_label.index:\n",
        "        labels=torch.from_numpy(np.expand_dims(np.array(train_label.loc[i][['Non-Pneumonia','Other Pneumonia','COVID-19']]).astype(np.int),0))\n",
        "        img_name=train_label.loc[i]['Image Name']\n",
        "        \n",
        "        for j in range(len(image_list)):\n",
        "          if image_list[j][0]==img_name:\n",
        "            img=image_list[j][1]\n",
        "        \n",
        "        img=np.transpose(img)\n",
        "        images=torch.from_numpy(np.expand_dims(img,0))\n",
        "        optimizer.zero_grad()\n",
        "        \n",
        "        output = model(images)\n",
        "        criterion = nn.NLLLoss()\n",
        "        loss =criterion(output, labels.argmax(dim=1))       \n",
        "        loss.backward()\n",
        "        optimizer.step()\n",
        "        run_loss_train += loss.item()\n",
        "\n",
        "    for i in val_label.index:\n",
        "        labels=torch.from_numpy(np.expand_dims(np.array(val_label.loc[i][['Non-Pneumonia','Other Pneumonia','COVID-19']]).astype(np.int),0))\n",
        "        img_name=val_label.loc[i]['Image Name']\n",
        "        \n",
        "        for j in range(len(image_list)):\n",
        "          if image_list[j][0]==img_name:\n",
        "            img=image_list[j][1]\n",
        "        \n",
        "        img=np.transpose(img)\n",
        "        images=torch.from_numpy(np.expand_dims(img,0))\n",
        "\n",
        "        output = model(images)\n",
        "        loss =criterion(output, labels.argmax(dim=1))\n",
        "        MAX=np.argmax(output.detach().numpy())\n",
        "        if int(np.argmax(labels))==MAX:\n",
        "          pos_count +=1\n",
        "        run_loss_val += loss.item()\n",
        "\n",
        "    else:\n",
        "# Stopping criteria (if there is no improvement in validation loss for last for 5 epochs then training stops)\n",
        "        if abs(previous_run_loss_val/len(val_label)-run_loss_val/len(val_label))<=.0001:\n",
        "          count =count+1\n",
        "        else:\n",
        "          count=0\n",
        "        if count==max_patience_count:\n",
        "          break;\n",
        "# Scheduler step\n",
        "        scheduler.step(previous_run_loss_val)\n",
        "\n",
        "        train_loss.append(run_loss_train/len(train_label))\n",
        "        val_loss.append(run_loss_val/len(val_label))\n",
        "        val_acc.append(pos_count/len(val_label))\n",
        "        print(\"Epoch {} - Training loss: {}, Validation loss: {}, validation accuracy: {}\".format(e, run_loss_train/len(train_label),run_loss_val/len(val_label),pos_count/len(val_label)))\n",
        "\n"
      ],
      "execution_count": 0,
      "outputs": [
        {
          "output_type": "stream",
          "text": [
            "Epoch 0 - Training loss: 0.7499474239664804, Validation loss: 0.5105931987477974, validation accuracy: 0.7954545454545454\n",
            "Epoch 1 - Training loss: 0.5318470529192353, Validation loss: 0.5306683105670593, validation accuracy: 0.8181818181818182\n",
            "Epoch 2 - Training loss: 0.5692314846068433, Validation loss: 0.4519930893385952, validation accuracy: 0.8181818181818182\n",
            "Epoch 3 - Training loss: 0.5435115619585568, Validation loss: 0.46190952780571853, validation accuracy: 0.8636363636363636\n",
            "Epoch 4 - Training loss: 0.5025312809862483, Validation loss: 0.5051311167719011, validation accuracy: 0.8409090909090909\n",
            "Epoch 5 - Training loss: 0.511646025075753, Validation loss: 0.4470490679483522, validation accuracy: 0.7954545454545454\n",
            "Epoch 6 - Training loss: 0.43201424534497795, Validation loss: 0.5073618974519459, validation accuracy: 0.8181818181818182\n",
            "Epoch 7 - Training loss: 0.4227554368579501, Validation loss: 0.5519140612979588, validation accuracy: 0.7727272727272727\n",
            "Epoch 8 - Training loss: 0.39870380689104246, Validation loss: 0.634982477989173, validation accuracy: 0.6818181818181818\n",
            "Epoch 9 - Training loss: 0.436087640199512, Validation loss: 0.4915370954240643, validation accuracy: 0.8409090909090909\n",
            "Epoch 10 - Training loss: 0.3938726328052585, Validation loss: 0.47886538035659626, validation accuracy: 0.7954545454545454\n",
            "Epoch 11 - Training loss: 0.3818125239524981, Validation loss: 0.4425591185519641, validation accuracy: 0.8636363636363636\n",
            "Epoch 12 - Training loss: 0.29421550328592155, Validation loss: 0.5261460795147948, validation accuracy: 0.8409090909090909\n",
            "Epoch 13 - Training loss: 0.26461885215101044, Validation loss: 0.555522494449013, validation accuracy: 0.8409090909090909\n",
            "Epoch 14 - Training loss: 0.28686806618013855, Validation loss: 0.6629226323116613, validation accuracy: 0.7727272727272727\n",
            "Epoch 15 - Training loss: 0.2753751899246283, Validation loss: 0.5598651096968917, validation accuracy: 0.8181818181818182\n",
            "Epoch 16 - Training loss: 0.28395585391877654, Validation loss: 0.6149675541442279, validation accuracy: 0.8409090909090909\n",
            "Epoch 17 - Training loss: 0.2875642898154161, Validation loss: 0.2960291494114658, validation accuracy: 0.8409090909090909\n",
            "Epoch 18 - Training loss: 0.2401911811068731, Validation loss: 0.5128818024750217, validation accuracy: 0.8181818181818182\n",
            "Epoch 19 - Training loss: 0.25726412903370216, Validation loss: 0.5246493763724257, validation accuracy: 0.7954545454545454\n",
            "Epoch 20 - Training loss: 0.25177570330438465, Validation loss: 0.5148265836798539, validation accuracy: 0.8181818181818182\n",
            "Epoch 21 - Training loss: 0.2498460275528432, Validation loss: 0.38273976731497067, validation accuracy: 0.8636363636363636\n",
            "Epoch 22 - Training loss: 0.25058031142061105, Validation loss: 0.529965858345928, validation accuracy: 0.8181818181818182\n",
            "Epoch 23 - Training loss: 0.231870513383076, Validation loss: 0.5818939741485668, validation accuracy: 0.75\n",
            "Epoch 24 - Training loss: 0.2378449675437559, Validation loss: 0.42833905834479746, validation accuracy: 0.8636363636363636\n",
            "Epoch 25 - Training loss: 0.20417066183520385, Validation loss: 0.6116649789076767, validation accuracy: 0.75\n",
            "Epoch 26 - Training loss: 0.2142398191653542, Validation loss: 0.641159504234648, validation accuracy: 0.8409090909090909\n",
            "Epoch 27 - Training loss: 0.21065068989013702, Validation loss: 0.46261042742232594, validation accuracy: 0.8863636363636364\n",
            "Epoch 28 - Training loss: 0.2228439006325737, Validation loss: 0.4041028333121672, validation accuracy: 0.8409090909090909\n",
            "Epoch 29 - Training loss: 0.21330582660060546, Validation loss: 0.4665799843424297, validation accuracy: 0.8409090909090909\n"
          ],
          "name": "stdout"
        }
      ]
    },
    {
      "cell_type": "code",
      "metadata": {
        "id": "Uemg5eVvDYAC",
        "colab_type": "code",
        "outputId": "3b2f4dcf-4be7-4c36-8909-96a5e64f0711",
        "colab": {
          "base_uri": "https://localhost:8080/",
          "height": 609
        }
      },
      "source": [
        "#Plotting ...................................................................................................................................\n",
        "#Training and validation loss Plot\n",
        "x1 = range(epochs)\n",
        "y1 = train_loss\n",
        "plt.plot(x1, y1, label = \"Training loss\")\n",
        "x2 = range(epochs)\n",
        "y2 = val_loss\n",
        "plt.plot(x2, y2, label = \"Validation loss\")\n",
        "plt.xlabel('epochs')\n",
        "plt.ylabel('loss')\n",
        "plt.title('Training vs. Validation Loss')\n",
        "plt.legend()\n",
        "plt.show()\n",
        "#Validation Accuracy Plot\n",
        "x1=range(epochs)\n",
        "y1=val_acc\n",
        "plt.plot(x1,y1,label='validation accuracy')\n",
        "plt.xlabel('epochs')\n",
        "plt.ylabel('accuracy')\n",
        "plt.title('Validation accuracy')\n",
        "plt.legend()\n",
        "plt.show()\n",
        "print(\"\\nTraining Time (in minutes) =\",(time()-time0)/60)"
      ],
      "execution_count": 0,
      "outputs": [
        {
          "output_type": "display_data",
          "data": {
            "image/png": "[encoded data removed]",
            "text/plain": [
              "<Figure size 432x288 with 1 Axes>"
            ]
          },
          "metadata": {
            "tags": [],
            "needs_background": "light"
          }
        },
        {
          "output_type": "display_data",
          "data": {
            "image/png": "[encoded data removed]",
            "text/plain": [
              "<Figure size 432x288 with 1 Axes>"
            ]
          },
          "metadata": {
            "tags": [],
            "needs_background": "light"
          }
        },
        {
          "output_type": "stream",
          "text": [
            "\n",
            "Training Time (in minutes) = 92.55441416104635\n"
          ],
          "name": "stdout"
        }
      ]
    },
    {
      "cell_type": "code",
      "metadata": {
        "id": "UUI3VxJjitDV",
        "colab_type": "code",
        "outputId": "0fabc04b-a5f1-4000-9778-04cfbb402977",
        "colab": {
          "base_uri": "https://localhost:8080/",
          "height": 35
        }
      },
      "source": [
        "#Testing....................................................................................................................................\n",
        "\n",
        "pos_count=0\n",
        "for i in TS_label.index:\n",
        "   \n",
        "    labels=torch.from_numpy(np.expand_dims(np.array(TS_label.loc[i][['Non-Pneumonia','Other Pneumonia','COVID-19']]).astype(np.int),0))\n",
        "    img_name =TS_label.loc[i]['Image Name']\n",
        "    \n",
        "    for j in range(len(image_list)):\n",
        "          if image_list[j][0]==img_name:\n",
        "            img=image_list[j][1]\n",
        "    if(img.shape[0]!=3):\n",
        "      img=np.transpose(img)\n",
        "    images=torch.from_numpy(np.expand_dims(img,0))\n",
        "    output = model(images)\n",
        "    MAX=np.argmax(output.detach().numpy())\n",
        "    if int(np.argmax(labels))==MAX: \n",
        "      pos_count +=1\n",
        "    \n",
        "print('Testing accuracy is: {}'.format(pos_count/len(TS_label)*100))"
      ],
      "execution_count": 0,
      "outputs": [
        {
          "output_type": "stream",
          "text": [
            "Testing accuracy is: 76.92307692307693\n"
          ],
          "name": "stdout"
        }
      ]
    },
    {
      "cell_type": "markdown",
      "metadata": {
        "id": "d4VPC28fGJWt",
        "colab_type": "text"
      },
      "source": [
        ""
      ]
    }
  ]
}